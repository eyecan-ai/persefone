{
 "cells": [
  {
   "cell_type": "code",
   "execution_count": null,
   "metadata": {},
   "outputs": [],
   "source": [
    "from persefone.data.databases.pandas import PandasDatabase, PandasDatabaseIO\n",
    "import pandas as pd\n",
    "from pathlib import Path"
   ]
  },
  {
   "cell_type": "code",
   "execution_count": null,
   "metadata": {},
   "outputs": [],
   "source": [
    "import os\n",
    "\n",
    "\n",
    "folder = Path('/Users/daniele/Desktop/TempEyecan/datasets/white2/')\n",
    "files = folder.glob('*.csv')\n",
    "\n",
    "for csv_file in files:\n",
    "    database = PandasDatabaseIO.load_csv(csv_file)\n",
    "    for i in range(database.size):\n",
    "        row = database.data.to_numpy()[i,:]\n",
    "        \n",
    "        for field in row:\n",
    "            \n",
    "            if isinstance(field, str):\n",
    "                \n",
    "                path = Path(str(field))\n",
    "                is_path = path.exists()\n",
    "                if not is_path:\n",
    "                    print(\"FFFF\", field, Path(field))\n",
    "                    path = Path(csv_file).parent / Path(field)\n",
    "                    field = str(path)\n",
    "                    is_path = path.exists()\n",
    "                print(\"FIELD\", field, \"Is Path?\", is_path)\n",
    "    break\n",
    "\n",
    "\n"
   ]
  },
  {
   "cell_type": "code",
   "execution_count": null,
   "metadata": {},
   "outputs": [],
   "source": []
  }
 ],
 "metadata": {
  "kernelspec": {
   "display_name": "persefone",
   "language": "python",
   "name": "persefone"
  },
  "language_info": {
   "codemirror_mode": {
    "name": "ipython",
    "version": 3
   },
   "file_extension": ".py",
   "mimetype": "text/x-python",
   "name": "python",
   "nbconvert_exporter": "python",
   "pygments_lexer": "ipython3",
   "version": "3.8.2"
  }
 },
 "nbformat": 4,
 "nbformat_minor": 4
}
