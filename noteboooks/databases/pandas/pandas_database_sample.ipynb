{
 "cells": [
  {
   "cell_type": "code",
   "execution_count": null,
   "metadata": {},
   "outputs": [],
   "source": [
    "from persefone.data.databases import PandasDatabase, PandasDatabaseIO\n",
    "import pandas as pd"
   ]
  },
  {
   "cell_type": "code",
   "execution_count": null,
   "metadata": {},
   "outputs": [],
   "source": [
    "csv_file = '/Users/daniele/Desktop/TempEyecan/datasets/white2/bottom_bad_white2_pc2_1pass.csv'\n",
    "database = PandasDatabaseIO.load_csv(csv_file)\n",
    "print(database)\n"
   ]
  },
  {
   "cell_type": "code",
   "execution_count": null,
   "metadata": {},
   "outputs": [],
   "source": [
    "\n",
    "frame = pd.read_pickle('/Users/daniele/work/workspace_python/cookiecutter_test/persefone/tests/sample_data/datasets/minimnist.data')\n",
    "frame.label = [0,0,1,1,2,\n",
    "               2,3,3,4,4,5,5,6,6,7,7,8,8,9,9]\n",
    "frame.to_pickle('/Users/daniele/work/workspace_python/cookiecutter_test/persefone/tests/sample_data/datasets/minimnist.data')"
   ]
  },
  {
   "cell_type": "code",
   "execution_count": null,
   "metadata": {},
   "outputs": [],
   "source": []
  }
 ],
 "metadata": {
  "kernelspec": {
   "display_name": "persefone",
   "language": "python",
   "name": "persefone"
  },
  "language_info": {
   "codemirror_mode": {
    "name": "ipython",
    "version": 3
   },
   "file_extension": ".py",
   "mimetype": "text/x-python",
   "name": "python",
   "nbconvert_exporter": "python",
   "pygments_lexer": "ipython3",
   "version": "3.8.2"
  }
 },
 "nbformat": 4,
 "nbformat_minor": 4
}
