{
 "cells": [
  {
   "cell_type": "code",
   "execution_count": null,
   "metadata": {},
   "outputs": [],
   "source": [
    "import imageio\n",
    "import matplotlib.pyplot as plt\n",
    "from persefone.transforms.factory import TransformsFactory, AlbumentationTransformsFactory\n",
    "\n",
    "image = imageio.imread('/Users/daniele/Downloads/6879212776_97acdc8dca_z.jpg')\n",
    "\n",
    "cfg_file = 'sample_configuration.yml'\n",
    "composition = TransformsFactory.parse_file(cfg_file)\n",
    "\n",
    "print(composition)\n",
    "image = composition(image=image)['image']\n"
   ]
  },
  {
   "cell_type": "code",
   "execution_count": null,
   "metadata": {},
   "outputs": [],
   "source": [
    "print(image.shape)\n",
    "plt.figure(figsize = (5,5))\n",
    "plt.imshow(image)"
   ]
  },
  {
   "cell_type": "code",
   "execution_count": null,
   "metadata": {},
   "outputs": [],
   "source": [
    "import pandas as pd\n",
    "import torch\n",
    "import numpy as np\n",
    "\n",
    "items = []\n",
    "for i in range(20):\n",
    "    item = {\n",
    "        'id':i,\n",
    "        #'data':torch.Tensor(np.random.uniform(0,1.0,(5,32,32,32))),\n",
    "        'data':np.random.uniform(0,1.0,(4,32,32,32)),\n",
    "        'cat': [1,2,3,4]\n",
    "    }\n",
    "    items.append(item)\n"
   ]
  },
  {
   "cell_type": "code",
   "execution_count": null,
   "metadata": {},
   "outputs": [],
   "source": [
    "frame = pd.DataFrame(items)\n",
    "frame"
   ]
  },
  {
   "cell_type": "code",
   "execution_count": null,
   "metadata": {},
   "outputs": [],
   "source": []
  }
 ],
 "metadata": {
  "kernelspec": {
   "display_name": "persefone",
   "language": "python",
   "name": "persefone"
  },
  "language_info": {
   "codemirror_mode": {
    "name": "ipython",
    "version": 3
   },
   "file_extension": ".py",
   "mimetype": "text/x-python",
   "name": "python",
   "nbconvert_exporter": "python",
   "pygments_lexer": "ipython3",
   "version": "3.8.2"
  }
 },
 "nbformat": 4,
 "nbformat_minor": 4
}
